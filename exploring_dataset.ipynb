{
 "cells": [
  {
   "cell_type": "code",
   "execution_count": 23,
   "metadata": {},
   "outputs": [],
   "source": [
    "from datasets.ravdess import Ravdess\n",
    "\n",
    "dataset = Ravdess(\"datasets/ravdess/train/train.csv\",\"datasets/ravdess/train/audios\")\n",
    "\n",
    "wave_sample = dataset[0]\n"
   ]
  },
  {
   "cell_type": "code",
   "execution_count": 24,
   "metadata": {},
   "outputs": [],
   "source": [
    "# def measure_time(func):\n",
    "#     def wrapper(*args, **kwargs):\n",
    "#         from time import time\n",
    "#         start = time()\n",
    "#         result = func(*args, **kwargs)\n",
    "#         print(f'Elapsed time is { (time() - start)} s')\n",
    "#         return result\n",
    "#     return wrapper"
   ]
  },
  {
   "cell_type": "code",
   "execution_count": 25,
   "metadata": {},
   "outputs": [
    {
     "name": "stdout",
     "output_type": "stream",
     "text": [
      "torch.Size([128, 1, 43000])\n",
      "torch.Size([128, 1, 43000])\n",
      "torch.Size([128, 1, 43000])\n",
      "torch.Size([128, 1, 43000])\n",
      "torch.Size([128, 1, 43000])\n",
      "torch.Size([128, 1, 43000])\n",
      "torch.Size([128, 1, 43000])\n",
      "torch.Size([128, 1, 43000])\n",
      "torch.Size([128, 1, 43000])\n",
      "torch.Size([128, 1, 43000])\n",
      "torch.Size([128, 1, 43000])\n",
      "torch.Size([32, 1, 43000])\n"
     ]
    }
   ],
   "source": [
    "# Check Speed\n",
    "from torch.utils.data import DataLoader\n",
    "import torch\n",
    "import torch.nn.functional as F\n",
    "\n",
    "\n",
    "# def pad_sequence(batch):\n",
    "#     # Make all tensor in a batch the same length by padding with zeros\n",
    "#     batch = [  item.t() for item in batch]\n",
    "#     # batch = torch.nn.utils.rnn.pad_sequence(batch, batch_first=True, padding_value=0.)\n",
    "#     # torch.nn.pad\n",
    "#     # return batch.permute(0, 2, 1)\n",
    "\n",
    "\n",
    "def collate_fn(batch):\n",
    "\n",
    "    tensors, targets = [], []\n",
    "\n",
    "    for waveform, label in batch:\n",
    "\n",
    "        tensors += [F.pad(waveform, (0, 43000 - waveform.shape[1]))]\n",
    "        targets += [label]\n",
    "\n",
    "    tensors = torch.stack(tensors)\n",
    "    targets = torch.stack(targets)\n",
    "\n",
    "    return tensors, targets\n",
    "\n",
    "\n",
    "loader = DataLoader(dataset, 128, collate_fn=collate_fn)\n",
    "\n",
    "# @measure_time\n",
    "def run():\n",
    "    for waves, labels in loader:\n",
    "        print(waves.shape)\n",
    "\n",
    "\n",
    "run()\n"
   ]
  },
  {
   "cell_type": "code",
   "execution_count": 26,
   "metadata": {},
   "outputs": [
    {
     "name": "stdout",
     "output_type": "stream",
     "text": [
      "48000\n"
     ]
    }
   ],
   "source": [
    "print ( dataset.get_sr() )\n",
    "# ipd."
   ]
  },
  {
   "cell_type": "code",
   "execution_count": 29,
   "metadata": {},
   "outputs": [
    {
     "data": {
      "text/plain": [
       "tensor([[ 3.9171e-05,  8.7547e-05,  1.0741e-04,  ...,  1.4785e-07,\n",
       "         -3.7672e-07, -9.6079e-06]])"
      ]
     },
     "execution_count": 29,
     "metadata": {},
     "output_type": "execute_result"
    }
   ],
   "source": [
    "wave = dataset[100][0]\n",
    "wave"
   ]
  },
  {
   "cell_type": "code",
   "execution_count": 30,
   "metadata": {},
   "outputs": [
    {
     "data": {
      "image/png": "[encoded data removed]",
      "text/plain": [
       "<Figure size 432x288 with 1 Axes>"
      ]
     },
     "metadata": {
      "needs_background": "light"
     },
     "output_type": "display_data"
    }
   ],
   "source": [
    "import matplotlib.pyplot as plt \n",
    "\n",
    "plt.plot(wave[0] )\n",
    "plt.show()\n"
   ]
  }
 ],
 "metadata": {
  "interpreter": {
   "hash": "568ac6547d3d1fddd3c396d0a27c207536811ae3601b255860c3e0220053b898"
  },
  "kernelspec": {
   "display_name": "Python 3.9.7 ('mef')",
   "language": "python",
   "name": "python3"
  },
  "language_info": {
   "codemirror_mode": {
    "name": "ipython",
    "version": 3
   },
   "file_extension": ".py",
   "mimetype": "text/x-python",
   "name": "python",
   "nbconvert_exporter": "python",
   "pygments_lexer": "ipython3",
   "version": "3.9.7"
  },
  "orig_nbformat": 4
 },
 "nbformat": 4,
 "nbformat_minor": 2
}
